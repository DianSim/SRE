{
 "cells": [
  {
   "cell_type": "code",
   "execution_count": 5,
   "id": "db1c6090",
   "metadata": {},
   "outputs": [],
   "source": [
    "import tensorflow as tf\n",
    "from tensorflow.keras import layers, models, activations\n"
   ]
  },
  {
   "cell_type": "code",
   "execution_count": 10,
   "id": "3a46c2a5",
   "metadata": {},
   "outputs": [],
   "source": [
    "# def Relu_log(In):\n",
    "#     Out_log = tf.math.log(tf.math.abs(In)+0.01)\n",
    "#     Out_relu = activations.relu(Out_log)\n",
    "#     return Out_relu"
   ]
  },
  {
   "cell_type": "code",
   "execution_count": 11,
   "id": "0200379e",
   "metadata": {},
   "outputs": [],
   "source": [
    "# window_size = 560\n",
    "# f_n = 8\n",
    "# f_l = 480\n",
    "\n",
    "# input = layers.Input(shape=(97, window_size, 1))\n",
    "# x = layers.TimeDistributed(layers.Conv1D(filters=f_n, kernel_size=f_l, activation=Relu_log))(input)\n",
    "# x = layers.BatchNormalization()(x)  \n",
    "# x = layers.TimeDistributed(layers.MaxPooling1D(window_size - f_l + 1))(x) \n",
    "# x = layers.TimeDistributed(layers.Reshape((f_n, 1)))(x)\n",
    "# x = layers.Conv2D(filters=64, kernel_size=3, padding='same')(x)\n",
    "# x = layers.BatchNormalization()(x)\n",
    "# x = layers.ReLU()(x)\n",
    "# x = layers.MaxPooling2D(pool_size=3, strides=3)(x)\n",
    "# x = layers.Conv2D(filters=64, kernel_size=3, activation='relu', padding='same')(x)\n",
    "# x = layers.Conv2D(filters=128, kernel_size=3, padding='same')(x)\n",
    "# x = layers.BatchNormalization()(x)\n",
    "# x = layers.ReLU()(x)\n",
    "# x = layers.MaxPooling2D(pool_size=2, strides=2)(x)\n",
    "# x = layers.Flatten()(x)\n",
    "# x = layers.Dense(64)(x)\n",
    "# x = layers.BatchNormalization()(x)\n",
    "# x = layers.ReLU()(x)\n",
    "# x = layers.Dropout(rate=0.2)(x)\n",
    "# x = layers.Dense(32)(x)\n",
    "# x = layers.BatchNormalization()(x)\n",
    "# x = layers.ReLU()(x)\n",
    "# x = layers.Dropout(rate=0.2)(x)\n",
    "# output = layers.Dense(1, activation='relu')(x)\n",
    "\n",
    "# model = models.Model(inputs=input, outputs=output)\n",
    "\n",
    " \n",
    "# # x = layers.Conv2D(filters=64, kernel_size=3, padding='same')(x)\n",
    "# # x = layers.BatchNormalization()(x)\n",
    "# # x = layers.ReLU()(x)\n",
    "# # x = layers.MaxPooling2D(pool_size=3, strides=3)(x)\n",
    "# # x = layers.Conv2D(filters=64, kernel_size=3, activation='relu', padding='same')(x)\n",
    "# # x = layers.Conv2D(filters=128, kernel_size=3, padding='same')(x)\n",
    "# # x = layers.BatchNormalization()(x)\n",
    "# # x = layers.ReLU()(x)\n",
    "# # x = layers.MaxPooling2D(pool_size=2, strides=2)(x)\n",
    "# # x = layers.Flatten()(x)\n",
    "# # x = layers.Dense(64)(x)\n",
    "# # x = layers.BatchNormalization()(x)\n",
    "# # x = layers.ReLU()(x)\n",
    "# # x = layers.Dropout(rate=0.2)(x)\n",
    "# # x = layers.Dense(32)(x)\n",
    "# # x = layers.BatchNormalization()(x)\n",
    "# # x = layers.ReLU()(x)\n",
    "# # x = layers.Dropout(rate=0.2)(x)\n",
    "# # output = layers.Dense(1, activation='relu')(x)\n",
    "\n",
    "# # model = models.Model(inputs=input, outputs=output)\n",
    "# model.summary()"
   ]
  },
  {
   "cell_type": "code",
   "execution_count": 12,
   "id": "3c1c51e1",
   "metadata": {},
   "outputs": [],
   "source": [
    "# import sys\n",
    "\n",
    "# import tensorflow.keras\n",
    "# import pandas as pd\n",
    "# import sklearn as sk\n",
    "# import scipy as sp\n",
    "# import tensorflow as tf\n",
    "# import platform\n",
    "\n",
    "# print(f\"Python Platform: {platform.platform()}\")\n",
    "# print(f\"Tensor Flow Version: {tf.__version__}\")\n",
    "# print(f\"Keras Version: {tensorflow.keras.__version__}\")\n",
    "# print()\n",
    "# print(f\"Python {sys.version}\")\n",
    "# print(f\"Pandas {pd.__version__}\")\n",
    "# print(f\"Scikit-Learn {sk.__version__}\")\n",
    "# print(f\"SciPy {sp.__version__}\")\n",
    "# gpu = len(tf.config.list_physical_devices('GPU'))>0\n",
    "# print(\"GPU is\", \"available\" if gpu else \"NOT AVAILABLE\")"
   ]
  },
  {
   "cell_type": "code",
   "execution_count": null,
   "id": "7eb4b07b",
   "metadata": {},
   "outputs": [],
   "source": [
    "import IPython\n",
    "\n",
    "IPython.display.Audio(\"my_audio_file.mp3\")"
   ]
  },
  {
   "cell_type": "code",
   "execution_count": 15,
   "id": "5cb72131-1323-4562-81a1-0d0e0672f710",
   "metadata": {},
   "outputs": [
    {
     "ename": "NameError",
     "evalue": "name 'os' is not defined",
     "output_type": "error",
     "traceback": [
      "\u001b[0;31m---------------------------------------------------------------------------\u001b[0m",
      "\u001b[0;31mNameError\u001b[0m                                 Traceback (most recent call last)",
      "Cell \u001b[0;32mIn[15], line 5\u001b[0m\n\u001b[1;32m      2\u001b[0m \u001b[38;5;28;01mimport\u001b[39;00m \u001b[38;5;21;01mnumpy\u001b[39;00m \u001b[38;5;28;01mas\u001b[39;00m \u001b[38;5;21;01mnp\u001b[39;00m\n\u001b[1;32m      4\u001b[0m \u001b[38;5;66;03m# Specify the path for the output WAV file\u001b[39;00m\n\u001b[0;32m----> 5\u001b[0m output_file_path \u001b[38;5;241m=\u001b[39m \u001b[43mos\u001b[49m\u001b[38;5;241m.\u001b[39mpath\u001b[38;5;241m.\u001b[39mjoin(\u001b[38;5;124m'\u001b[39m\u001b[38;5;124m/Users/dianasimonyan/Desktop/ASDS/Thesis/Implementation/TIMIT_chunks\u001b[39m\u001b[38;5;124m'\u001b[39m,\u001b[38;5;124m'\u001b[39m\u001b[38;5;124moutput.wav\u001b[39m\u001b[38;5;124m'\u001b[39m)\n\u001b[1;32m      7\u001b[0m \u001b[38;5;66;03m# Create a NumPy array with audio data (example)\u001b[39;00m\n\u001b[1;32m      8\u001b[0m audio_data \u001b[38;5;241m=\u001b[39m np\u001b[38;5;241m.\u001b[39marray([\u001b[38;5;241m0\u001b[39m, \u001b[38;5;241m1000\u001b[39m, \u001b[38;5;241m2000\u001b[39m, \u001b[38;5;241m3000\u001b[39m], dtype\u001b[38;5;241m=\u001b[39mnp\u001b[38;5;241m.\u001b[39mint16)\n",
      "\u001b[0;31mNameError\u001b[0m: name 'os' is not defined"
     ]
    }
   ],
   "source": [
    "from scipy.io import wavfile\n",
    "import numpy as np\n",
    "import os \n",
    "\n",
    "# Specify the path for the output WAV file\n",
    "output_file_path = os.path.join('/Users/dianasimonyan/Desktop/ASDS/Thesis/Implementation/TIMIT_chunks','output.wav')\n",
    "\n",
    "# Create a NumPy array with audio data (example)\n",
    "audio_data = np.array([0, 1000, 2000, 3000], dtype=np.int16)\n",
    "\n",
    "# Specify the sample rate\n",
    "sample_rate = 44100\n",
    "\n",
    "# Write the WAV file using scipy\n",
    "wavfile.write(output_file_path, sample_rate, audio_data)"
   ]
  },
  {
   "cell_type": "code",
   "execution_count": null,
   "id": "54eb061d-f97e-497a-aca0-26ab115677ae",
   "metadata": {},
   "outputs": [],
   "source": []
  }
 ],
 "metadata": {
  "kernelspec": {
   "display_name": "Python 3 (ipykernel)",
   "language": "python",
   "name": "python3"
  },
  "language_info": {
   "codemirror_mode": {
    "name": "ipython",
    "version": 3
   },
   "file_extension": ".py",
   "mimetype": "text/x-python",
   "name": "python",
   "nbconvert_exporter": "python",
   "pygments_lexer": "ipython3",
   "version": "3.10.13"
  }
 },
 "nbformat": 4,
 "nbformat_minor": 5
}
